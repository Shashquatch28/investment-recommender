{
 "cells": [
  {
   "cell_type": "code",
   "execution_count": null,
   "id": "b45d3f00-3d88-429d-983e-65813d1d9fea",
   "metadata": {},
   "outputs": [],
   "source": [print("Open source test")]
  }
 ],
 "metadata": {
  "kernelspec": {
   "display_name": "Python (Investment App)",
   "language": "python",
   "name": "venv_investment"
  },
  "language_info": {
   "codemirror_mode": {
    "name": "ipython",
    "version": 3
   },
   "file_extension": ".py",
   "mimetype": "text/x-python",
   "name": "python",
   "nbconvert_exporter": "python",
   "pygments_lexer": "ipython3",
   "version": "3.12.3"
  }
 },
 "nbformat": 4,
 "nbformat_minor": 5
}
